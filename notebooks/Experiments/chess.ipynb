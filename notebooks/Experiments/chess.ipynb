{
 "cells": [
  {
   "cell_type": "markdown",
   "metadata": {},
   "source": [
    "# Chess"
   ]
  },
  {
   "cell_type": "code",
   "execution_count": 70,
   "metadata": {},
   "outputs": [],
   "source": [
    "import chess, random\n",
    "import torch\n",
    "import torch.nn.functional as F\n",
    "\n",
    "board = chess.Board()"
   ]
  },
  {
   "cell_type": "code",
   "execution_count": 103,
   "metadata": {},
   "outputs": [
    {
     "name": "stdout",
     "output_type": "stream",
     "text": [
      "g1h3\n",
      "g1f3\n",
      "b1c3\n",
      "b1a3\n",
      "h2h3\n",
      "g2g3\n",
      "f2f3\n",
      "e2e3\n",
      "d2d3\n",
      "c2c3\n",
      "b2b3\n",
      "a2a3\n",
      "h2h4\n",
      "g2g4\n",
      "f2f4\n",
      "e2e4\n",
      "d2d4\n",
      "c2c4\n",
      "b2b4\n",
      "a2a4\n"
     ]
    }
   ],
   "source": [
    "for m in board.legal_moves:\n",
    "    print(m)"
   ]
  },
  {
   "cell_type": "code",
   "execution_count": 173,
   "metadata": {},
   "outputs": [],
   "source": [
    "moves_dict = {}\n",
    "num_moves = 7\n",
    "\n",
    "dir = [0, 1, -1]\n",
    "\n",
    "for dir_x in dir:\n",
    "    for dir_y in dir:\n",
    "        if dir_x == 0 and dir_y == 0:\n",
    "            continue\n",
    "        for n in range(1, num_moves+1):\n",
    "            moves_dict[(dir_x*n, dir_y*n)] = len(moves_dict)\n",
    "\n",
    "# knight moves\n",
    "moves_dict[(2, 1)] = len(moves_dict)\n",
    "moves_dict[(2, -1)] = len(moves_dict)\n",
    "moves_dict[(-2, 1)] = len(moves_dict)\n",
    "moves_dict[(-2, -1)] = len(moves_dict)\n",
    "moves_dict[(1, 2)] = len(moves_dict)\n",
    "moves_dict[(1, -2)] = len(moves_dict)\n",
    "moves_dict[(-1, 2)] = len(moves_dict)\n",
    "moves_dict[(-1, -2)] = len(moves_dict)\n",
    "\n",
    "# promotions\n",
    "for piece in range(4):\n",
    "    moves_dict[(0, 1, piece)] = len(moves_dict)\n",
    "    moves_dict[(1, 1, piece)] = len(moves_dict)\n",
    "    moves_dict[(-1, 1, piece)] = len(moves_dict)\n",
    "\n",
    "\n",
    "class BoardArithmetic:\n",
    "\n",
    "    def __init__(self):\n",
    "        self.board = chess.Board()\n",
    "        self.unique_pieces = sorted(set(str(board).replace(\"\\n\", \"\").replace(\" \", \"\")))\n",
    "        self.piece_to_idx = {p: i for i, p in enumerate(self.unique_pieces)}\n",
    "\n",
    "        self.alpha_idx = {c: i for i, c in enumerate(\"abcdefgh\")}\n",
    "        self.numeric_idx = {c: i for i, c in enumerate(\"12345678\")}\n",
    "        self.promotion_idx = {c: i for i, c in enumerate(\"qrbn\")}\n",
    "\n",
    "    def board_to_state(self, board):\n",
    "        state = [row.split(\" \") for row in str(board).split(\"\\n\")]\n",
    "        state = [[self.piece_to_idx[p] for p in row] for row in state]\n",
    "        state_onehot = F.one_hot(torch.tensor(state), num_classes=len(self.unique_pieces)).float().permute(2, 0, 1)\n",
    "        state_onehot = state_onehot[1:].unsqueeze(0) \n",
    "        return state_onehot\n",
    "\n",
    "    def move_get_origin(self, move):\n",
    "        move = str(move)\n",
    "        x, y = self.alpha_idx[move[0]], self.numeric_idx[move[1]]\n",
    "        return x + y*8\n",
    "\n",
    "    def move_get_delta(self, move):\n",
    "        move = str(move)\n",
    "        x1, y1 = self.alpha_idx[move[0]], self.numeric_idx[move[1]]\n",
    "        x2, y2 = self.alpha_idx[move[2]], self.numeric_idx[move[3]]\n",
    "        delta = (x2-x1, y2-y1)\n",
    "\n",
    "        if len(move) == 5:  # promotion\n",
    "            piece = self.promotion_idx[move[4].lower()]\n",
    "            delta = (*delta , piece)\n",
    "\n",
    "        return moves_dict[delta]\n",
    "\n",
    "        \n",
    "    def move_get_action(self, move):\n",
    "        origin = self.move_get_origin(move)\n",
    "        delta = self.move_get_delta(move)\n",
    "\n",
    "        return origin * len(moves_dict) + delta\n"
   ]
  },
  {
   "cell_type": "code",
   "execution_count": 174,
   "metadata": {},
   "outputs": [
    {
     "name": "stdout",
     "output_type": "stream",
     "text": [
      "torch.Size([1, 12, 8, 8])\n"
     ]
    }
   ],
   "source": [
    "bts = BoardArithmetic()\n",
    "board = chess.Board()\n",
    "state = bts.board_to_state(str(board))\n",
    "print(state.shape)"
   ]
  },
  {
   "cell_type": "code",
   "execution_count": 176,
   "metadata": {},
   "outputs": [],
   "source": [
    "moves = torch.tensor([bts.move_get_action(m) for m in board.legal_moves])"
   ]
  },
  {
   "cell_type": "code",
   "execution_count": 177,
   "metadata": {},
   "outputs": [
    {
     "name": "stdout",
     "output_type": "stream",
     "text": [
      "tensor([ 516,  518,  136,  138, 1140, 1064,  988,  912,  836,  760,  684,  608,\n",
      "        1141, 1065,  989,  913,  837,  761,  685,  609])\n"
     ]
    }
   ],
   "source": [
    "print(moves)"
   ]
  },
  {
   "cell_type": "code",
   "execution_count": 167,
   "metadata": {},
   "outputs": [],
   "source": [
    "Q = torch.randn((64, 76))"
   ]
  },
  {
   "cell_type": "code",
   "execution_count": 172,
   "metadata": {},
   "outputs": [
    {
     "data": {
      "text/plain": [
       "tensor(2608)"
      ]
     },
     "execution_count": 172,
     "metadata": {},
     "output_type": "execute_result"
    }
   ],
   "source": [
    "torch.argmax(Q)\n"
   ]
  }
 ],
 "metadata": {
  "kernelspec": {
   "display_name": "env_pytorch",
   "language": "python",
   "name": "python3"
  },
  "language_info": {
   "codemirror_mode": {
    "name": "ipython",
    "version": 3
   },
   "file_extension": ".py",
   "mimetype": "text/x-python",
   "name": "python",
   "nbconvert_exporter": "python",
   "pygments_lexer": "ipython3",
   "version": "3.12.2"
  }
 },
 "nbformat": 4,
 "nbformat_minor": 4
}
