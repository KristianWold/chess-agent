{
 "cells": [
  {
   "cell_type": "markdown",
   "metadata": {},
   "source": [
    "# Chess"
   ]
  },
  {
   "cell_type": "code",
   "execution_count": 70,
   "metadata": {},
   "outputs": [],
   "source": [
    "import chess, random\n",
    "import torch\n",
    "import torch.nn.functional as F\n",
    "\n",
    "board = chess.Board()"
   ]
  },
  {
   "cell_type": "code",
   "execution_count": 103,
   "metadata": {},
   "outputs": [
    {
     "name": "stdout",
     "output_type": "stream",
     "text": [
      "g1h3\n",
      "g1f3\n",
      "b1c3\n",
      "b1a3\n",
      "h2h3\n",
      "g2g3\n",
      "f2f3\n",
      "e2e3\n",
      "d2d3\n",
      "c2c3\n",
      "b2b3\n",
      "a2a3\n",
      "h2h4\n",
      "g2g4\n",
      "f2f4\n",
      "e2e4\n",
      "d2d4\n",
      "c2c4\n",
      "b2b4\n",
      "a2a4\n"
     ]
    }
   ],
   "source": [
    "for m in board.legal_moves:\n",
    "    print(m)"
   ]
  },
  {
   "cell_type": "code",
   "execution_count": 688,
   "metadata": {},
   "outputs": [],
   "source": [
    "def make_move_dict():\n",
    "    move_dict = {}\n",
    "    num_moves = 7\n",
    "\n",
    "    dir = [0, 1, -1]\n",
    "\n",
    "    for dir_x in dir:\n",
    "        for dir_y in dir:\n",
    "            if dir_x == 0 and dir_y == 0:\n",
    "                continue\n",
    "            for n in range(1, num_moves+1):\n",
    "                move_dict[(dir_x*n, dir_y*n)] = len(move_dict)\n",
    "\n",
    "    # knight moves\n",
    "    move_dict[(2, 1)] = len(move_dict)\n",
    "    move_dict[(2, -1)] = len(move_dict)\n",
    "    move_dict[(-2, 1)] = len(move_dict)\n",
    "    move_dict[(-2, -1)] = len(move_dict)\n",
    "    move_dict[(1, 2)] = len(move_dict)\n",
    "    move_dict[(1, -2)] = len(move_dict)\n",
    "    move_dict[(-1, 2)] = len(move_dict)\n",
    "    move_dict[(-1, -2)] = len(move_dict)\n",
    "\n",
    "    # promotions\n",
    "    for piece in range(4):\n",
    "        move_dict[(0, 1, piece)] = len(move_dict)\n",
    "        move_dict[(1, 1, piece)] = len(move_dict)\n",
    "        move_dict[(-1, 1, piece)] = len(move_dict)\n",
    "\n",
    "    move_dict_inv = {v: k for k, v in move_dict.items()}\n",
    "\n",
    "    return move_dict, move_dict_inv\n",
    "\n",
    "\n",
    "class BoardLogic:\n",
    "\n",
    "    def __init__(self):\n",
    "        self.board = chess.Board()\n",
    "        self.unique_pieces = sorted(set(str(board).replace(\"\\n\", \"\").replace(\" \", \"\")))\n",
    "        self.piece_to_idx = {p: i for i, p in enumerate(self.unique_pieces)}\n",
    "\n",
    "        self.alpha_idx = {c: i for i, c in enumerate(\"abcdefgh\")}\n",
    "        self.numeric_idx = {c: i for i, c in enumerate(\"12345678\")}\n",
    "        self.promotion_idx = {c: i for i, c in enumerate(\"qrbn\")}\n",
    "\n",
    "        self.move_dict, self.move_dict_inv = make_move_dict()\n",
    "\n",
    "    def board_to_state(self, board):\n",
    "        state = [row.split(\" \") for row in str(board).split(\"\\n\")]\n",
    "        state = [[self.piece_to_idx[p] for p in row] for row in state]\n",
    "        state_onehot = F.one_hot(torch.tensor(state), num_classes=len(self.unique_pieces)).float().permute(2, 0, 1)\n",
    "        state_onehot = state_onehot[1:].unsqueeze(0) \n",
    "        return state_onehot\n",
    "\n",
    "    def move_get_origin(self, move):\n",
    "        move = str(move)\n",
    "        x, y = self.alpha_idx[move[0]], self.numeric_idx[move[1]]\n",
    "        return x + y*8\n",
    "\n",
    "    def move_get_delta(self, move):\n",
    "        move = str(move)\n",
    "        x1, y1 = self.alpha_idx[move[0]], self.numeric_idx[move[1]]\n",
    "        x2, y2 = self.alpha_idx[move[2]], self.numeric_idx[move[3]]\n",
    "        delta = (x2-x1, y2-y1)\n",
    "\n",
    "        if len(move) == 5:  # promotion\n",
    "            piece = self.promotion_idx[move[4].lower()]\n",
    "            delta = (*delta , piece)\n",
    "\n",
    "        return self.move_dict[delta]\n",
    "\n",
    "        \n",
    "    def move_to_action(self, move):\n",
    "        origin = self.move_get_origin(move)\n",
    "        delta = self.move_get_delta(move)\n",
    "\n",
    "        return origin * len(self.move_dict) + delta\n",
    "\n",
    "    def action_to_move(self, action):\n",
    "        origin, delta = action//len(self.move_dict), action%len(self.move_dict)\n",
    "        x = origin % 8\n",
    "        y = origin // 8\n",
    "\n",
    "        move_delta = self.move_dict_inv[delta]\n",
    "        move = \"abcdefgh\"[x] + str(y+1) + \"abcdefgh\"[x + move_delta[0]] + str(y + 1 + move_delta[1])\n",
    "        if len(move_delta) == 3:  # promotion\n",
    "            move += \"qrbn\"[move_delta[2]]\n",
    "\n",
    "        return chess.Move.from_uci(move)\n"
   ]
  },
  {
   "cell_type": "code",
   "execution_count": 691,
   "metadata": {},
   "outputs": [],
   "source": [
    "bts = BoardLogic()\n",
    "board = chess.Board()\n",
    "mirror = False\n",
    "check_mate = False\n",
    "counter = 0"
   ]
  },
  {
   "cell_type": "code",
   "execution_count": 692,
   "metadata": {},
   "outputs": [
    {
     "ename": "KeyboardInterrupt",
     "evalue": "",
     "output_type": "error",
     "traceback": [
      "\u001b[31m---------------------------------------------------------------------------\u001b[39m",
      "\u001b[31mKeyboardInterrupt\u001b[39m                         Traceback (most recent call last)",
      "\u001b[36mCell\u001b[39m\u001b[36m \u001b[39m\u001b[32mIn[692]\u001b[39m\u001b[32m, line 3\u001b[39m\n\u001b[32m      1\u001b[39m \u001b[38;5;28;01mwhile\u001b[39;00m \u001b[38;5;129;01mnot\u001b[39;00m check_mate:\n\u001b[32m      2\u001b[39m     counter += \u001b[32m1\u001b[39m\n\u001b[32m----> \u001b[39m\u001b[32m3\u001b[39m     \u001b[38;5;28;01mfor\u001b[39;00m m \u001b[38;5;129;01min\u001b[39;00m board.legal_moves:\n\u001b[32m      4\u001b[39m         board.push(m)\n\u001b[32m      5\u001b[39m         \u001b[38;5;28;01mif\u001b[39;00m board.is_checkmate():\n",
      "\u001b[36mFile \u001b[39m\u001b[32m~/anaconda3/envs/env_pytorch/lib/python3.12/site-packages/chess/__init__.py:3717\u001b[39m, in \u001b[36mBoard.generate_legal_moves\u001b[39m\u001b[34m(self, from_mask, to_mask)\u001b[39m\n\u001b[32m   3715\u001b[39m     \u001b[38;5;28;01melse\u001b[39;00m:\n\u001b[32m   3716\u001b[39m         \u001b[38;5;28;01mfor\u001b[39;00m move \u001b[38;5;129;01min\u001b[39;00m \u001b[38;5;28mself\u001b[39m.generate_pseudo_legal_moves(from_mask, to_mask):\n\u001b[32m-> \u001b[39m\u001b[32m3717\u001b[39m             \u001b[38;5;28;01mif\u001b[39;00m \u001b[38;5;28mself\u001b[39m._is_safe(king, blockers, move):\n\u001b[32m   3718\u001b[39m                 \u001b[38;5;28;01myield\u001b[39;00m move\n\u001b[32m   3719\u001b[39m \u001b[38;5;28;01melse\u001b[39;00m:\n",
      "\u001b[36mFile \u001b[39m\u001b[32m~/anaconda3/envs/env_pytorch/lib/python3.12/site-packages/chess/__init__.py:3669\u001b[39m, in \u001b[36mBoard._is_safe\u001b[39m\u001b[34m(self, king, blockers, move)\u001b[39m\n\u001b[32m   3667\u001b[39m         \u001b[38;5;28;01mreturn\u001b[39;00m \u001b[38;5;28;01mTrue\u001b[39;00m\n\u001b[32m   3668\u001b[39m     \u001b[38;5;28;01melse\u001b[39;00m:\n\u001b[32m-> \u001b[39m\u001b[32m3669\u001b[39m         \u001b[38;5;28;01mreturn\u001b[39;00m \u001b[38;5;129;01mnot\u001b[39;00m \u001b[38;5;28mself\u001b[39m.is_attacked_by(\u001b[38;5;129;01mnot\u001b[39;00m \u001b[38;5;28mself\u001b[39m.turn, move.to_square)\n\u001b[32m   3670\u001b[39m \u001b[38;5;28;01melif\u001b[39;00m \u001b[38;5;28mself\u001b[39m.is_en_passant(move):\n\u001b[32m   3671\u001b[39m     \u001b[38;5;28;01mreturn\u001b[39;00m \u001b[38;5;28mbool\u001b[39m(\u001b[38;5;28mself\u001b[39m.pin_mask(\u001b[38;5;28mself\u001b[39m.turn, move.from_square) & BB_SQUARES[move.to_square] \u001b[38;5;129;01mand\u001b[39;00m\n\u001b[32m   3672\u001b[39m                 \u001b[38;5;129;01mnot\u001b[39;00m \u001b[38;5;28mself\u001b[39m._ep_skewered(king, move.from_square))\n",
      "\u001b[36mFile \u001b[39m\u001b[32m~/anaconda3/envs/env_pytorch/lib/python3.12/site-packages/chess/__init__.py:939\u001b[39m, in \u001b[36mBaseBoard.is_attacked_by\u001b[39m\u001b[34m(self, color, square, occupied)\u001b[39m\n\u001b[32m    925\u001b[39m \u001b[38;5;28;01mdef\u001b[39;00m\u001b[38;5;250m \u001b[39m\u001b[34mis_attacked_by\u001b[39m(\u001b[38;5;28mself\u001b[39m, color: Color, square: Square, occupied: Optional[IntoSquareSet] = \u001b[38;5;28;01mNone\u001b[39;00m) -> \u001b[38;5;28mbool\u001b[39m:\n\u001b[32m    926\u001b[39m \u001b[38;5;250m    \u001b[39m\u001b[33;03m\"\"\"\u001b[39;00m\n\u001b[32m    927\u001b[39m \u001b[33;03m    Checks if the given side attacks the given square.\u001b[39;00m\n\u001b[32m    928\u001b[39m \n\u001b[32m   (...)\u001b[39m\u001b[32m    937\u001b[39m \u001b[33;03m    no X-ray attacks).\u001b[39;00m\n\u001b[32m    938\u001b[39m \u001b[33;03m    \"\"\"\u001b[39;00m\n\u001b[32m--> \u001b[39m\u001b[32m939\u001b[39m     \u001b[38;5;28;01mreturn\u001b[39;00m \u001b[38;5;28mbool\u001b[39m(\u001b[38;5;28mself\u001b[39m.attackers_mask(color, square, \u001b[38;5;28;01mNone\u001b[39;00m \u001b[38;5;28;01mif\u001b[39;00m occupied \u001b[38;5;129;01mis\u001b[39;00m \u001b[38;5;28;01mNone\u001b[39;00m \u001b[38;5;28;01melse\u001b[39;00m SquareSet(occupied).mask))\n",
      "\u001b[31mKeyboardInterrupt\u001b[39m: "
     ]
    }
   ],
   "source": [
    "while not check_mate:\n",
    "    counter += 1\n",
    "    for m in board.legal_moves:\n",
    "        board.push(m)\n",
    "        if board.is_checkmate():\n",
    "            print(\"board.is_checkmate()\")\n",
    "            check_mate = True\n",
    "        board.pop()\n",
    "\n",
    "    moves = torch.tensor([bts.move_to_action(m) for m in board.legal_moves], dtype=torch.long)\n",
    "    Q = torch.randn(64 * 76)\n",
    "    action = int(moves[torch.argmax(Q[moves])])\n",
    "    move = bts.action_to_move(action)\n",
    "    board.push(move)\n",
    "\n",
    "    board = board.mirror()\n",
    "    mirror = not mirror\n",
    "\n",
    "print(counter)"
   ]
  },
  {
   "cell_type": "code",
   "execution_count": 686,
   "metadata": {},
   "outputs": [
    {
     "name": "stdout",
     "output_type": "stream",
     "text": [
      "board.is_checkmate()\n",
      ". . b q k b r .\n",
      ". p p . . Q p n\n",
      "r . n p P . . .\n",
      "p . . . . . P p\n",
      "N . . P P . . .\n",
      ". P . . B . . P\n",
      "P . P . K . B .\n",
      "R . . . . . N R\n",
      "41\n",
      "926\n",
      "12 14\n",
      ". . b q k b r .\n",
      ". p p . . p p n\n",
      "r . n p P . . .\n",
      "p . . . . . P p\n",
      "N . . P P . . .\n",
      ". P . . B . . P\n",
      "P . P . . K B .\n",
      "R . . . . Q N R\n"
     ]
    }
   ],
   "source": [
    "for m in board.legal_moves:\n",
    "    board.push(m)\n",
    "    if board.is_checkmate():\n",
    "        print(\"board.is_checkmate()\")\n",
    "        check_mate = True\n",
    "        if mirror:\n",
    "            print(board.mirror())\n",
    "        else:\n",
    "            print(board)\n",
    "    board.pop()\n",
    "\n",
    "moves = torch.tensor([bts.move_to_action(m) for m in board.legal_moves], dtype=torch.long)\n",
    "print(len(moves))\n",
    "Q = torch.randn(64 * 76)\n",
    "action = int(moves[torch.argmax(Q[moves])])\n",
    "print(action)\n",
    "print(action//76, action%76)\n",
    "move = bts.action_to_move(action)\n",
    "board.push(move)\n",
    "\n",
    "board = board.mirror()\n",
    "mirror = not mirror\n",
    "\n",
    "if mirror:\n",
    "    print(board.mirror())\n",
    "else:\n",
    "    print(board)"
   ]
  }
 ],
 "metadata": {
  "kernelspec": {
   "display_name": "env_pytorch",
   "language": "python",
   "name": "python3"
  },
  "language_info": {
   "codemirror_mode": {
    "name": "ipython",
    "version": 3
   },
   "file_extension": ".py",
   "mimetype": "text/x-python",
   "name": "python",
   "nbconvert_exporter": "python",
   "pygments_lexer": "ipython3",
   "version": "3.12.2"
  }
 },
 "nbformat": 4,
 "nbformat_minor": 4
}
