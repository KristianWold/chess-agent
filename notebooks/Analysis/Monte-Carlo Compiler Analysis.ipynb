{
 "cells": [
  {
   "cell_type": "code",
   "execution_count": 1,
   "metadata": {},
   "outputs": [],
   "source": [
    "import sys\n",
    "sys.path.insert(0, '../../src/')\n",
    "\n",
    "import numpy as np\n",
    "import matplotlib.pyplot as plt\n",
    "import pickle\n",
    "import config\n",
    "import qiskit.quantum_info as qi\n",
    "import random\n",
    "from itertools import count\n",
    "\n",
    "from tqdm.notebook import tqdm\n",
    "from scipy.optimize import minimize\n",
    "\n",
    "from utils import *\n",
    "from basis_gates import *\n",
    "from montecarlo_compiling import *\n",
    "\n",
    "\n",
    "%matplotlib inline\n",
    "np.set_printoptions(precision = 3)"
   ]
  },
  {
   "cell_type": "markdown",
   "metadata": {},
   "source": [
    "# Monte-Carlo Compiler Analysis\n",
    "\n",
    "## One Qubit\n",
    "\n",
    "### Small Rotations Basis Set"
   ]
  },
  {
   "cell_type": "code",
   "execution_count": 2,
   "metadata": {},
   "outputs": [],
   "source": [
    "max_steps = 2000\n",
    "U_target_list = [np.array(qi.random_unitary(2, seed=i).data) for i in range(100)]\n",
    "\n",
    "random.seed(42)\n",
    "compiler = MonteCarloCompiler(basis_gates = SmallRotations(frac=1/128),\n",
    "                              length = 10,\n",
    "                              variable_length = True,\n",
    "                              tol = 0.99,\n",
    "                              max_steps = max_steps,\n",
    "                              acceptance_criterion = Metropolis(T_start=0))\n",
    "\n",
    "_, _, fidelity_list1, steps_list1 = compiler.compile_list(U_target_list)\n",
    "\n",
    "random.seed(42)\n",
    "compiler = MonteCarloCompiler(basis_gates = SmallRotations(frac=1/128),\n",
    "                              length = 10,\n",
    "                              variable_length = True,\n",
    "                              tol = 0.99,\n",
    "                              max_steps = max_steps,\n",
    "                              acceptance_criterion = Metropolis(T_start=0.0001))\n",
    "\n",
    "_, _, fidelity_list2, steps_list2 = compiler.compile_list(U_target_list)\n",
    "\n",
    "random.seed(42)\n",
    "compiler = MonteCarloCompiler(basis_gates = SmallRotations(frac=1/128),\n",
    "                              length = 10,\n",
    "                              variable_length = True,\n",
    "                              tol = 0.99,\n",
    "                              max_steps = max_steps,\n",
    "                              acceptance_criterion = Metropolis(T_start=0.001))\n",
    "\n",
    "_, _, fidelity_list3, steps_list3 = compiler.compile_list(U_target_list)\n",
    "\n",
    "random.seed(42)\n",
    "compiler = MonteCarloCompiler(basis_gates = SmallRotations(frac=1/128),\n",
    "                              length = 10,\n",
    "                              variable_length = True,\n",
    "                              tol = 0.99,\n",
    "                              max_steps = max_steps,\n",
    "                              acceptance_criterion = Metropolis(T_start=0.01))\n",
    "\n",
    "_, _, fidelity_list4, steps_list4 = compiler.compile_list(U_target_list)\n",
    "\n",
    "\n",
    "data = (fidelity_list1, fidelity_list2, fidelity_list3, fidelity_list4)\n",
    "\n",
    "saver(data, data_path(\"mcc_oneQubit_smallRot\"))"
   ]
  },
  {
   "cell_type": "markdown",
   "metadata": {},
   "source": [
    "### HRC Basis Set"
   ]
  },
  {
   "cell_type": "code",
   "execution_count": 9,
   "metadata": {},
   "outputs": [],
   "source": [
    "max_steps = 10000\n",
    "U_target_list = [np.array(qi.random_unitary(2, seed=i).data) for i in range(100)]\n",
    "\n",
    "random.seed(42)\n",
    "compiler = MonteCarloCompiler(basis_gates = HRC(),\n",
    "                              length = 10,\n",
    "                              variable_length = True,\n",
    "                              tol = 0.99,\n",
    "                              max_steps = max_steps,\n",
    "                              acceptance_criterion = Metropolis(T_start=0))\n",
    "\n",
    "_, _, fidelity_list1, steps_list1 = compiler.compile_list(U_target_list)\n",
    "\n",
    "random.seed(42)\n",
    "compiler = MonteCarloCompiler(basis_gates = HRC(),\n",
    "                              length = 10,\n",
    "                              variable_length = True,\n",
    "                              tol = 0.99,\n",
    "                              max_steps = max_steps,\n",
    "                              acceptance_criterion = Metropolis(T_start=0.02))\n",
    "\n",
    "_, _, fidelity_list2, steps_list2 = compiler.compile_list(U_target_list)\n",
    "\n",
    "random.seed(42)\n",
    "compiler = MonteCarloCompiler(basis_gates = HRC(),\n",
    "                              length = 10,\n",
    "                              variable_length = True,\n",
    "                              tol = 0.99,\n",
    "                              max_steps = max_steps,\n",
    "                              acceptance_criterion = Metropolis(T_start=0.05))\n",
    "\n",
    "_, _, fidelity_list3, steps_list3 = compiler.compile_list(U_target_list)\n",
    "\n",
    "random.seed(42)\n",
    "compiler = MonteCarloCompiler(basis_gates = HRC(),\n",
    "                              length = 10,\n",
    "                              variable_length = True,\n",
    "                              tol = 0.99,\n",
    "                              max_steps = max_steps,\n",
    "                              acceptance_criterion = Metropolis(T_start=0.1))\n",
    "\n",
    "_, _, fidelity_list4, steps_list4 = compiler.compile_list(U_target_list)\n",
    "\n",
    "\n",
    "data = (fidelity_list1, fidelity_list2, fidelity_list3, fidelity_list4)\n",
    "\n",
    "saver(data, data_path(\"mcc_oneQubit_HRC\"))"
   ]
  },
  {
   "cell_type": "markdown",
   "metadata": {},
   "source": [
    "## Two Qubits\n",
    "\n",
    "### Small Rotations Basis Set"
   ]
  },
  {
   "cell_type": "code",
   "execution_count": 12,
   "metadata": {},
   "outputs": [],
   "source": [
    "max_steps = 10000\n",
    "U_target_list = [np.array(qi.random_unitary(4, seed=i).data) for i in range(100)]\n",
    "\n",
    "random.seed(42)\n",
    "compiler = MonteCarloCompiler(basis_gates = IsingGates3(frac=1/64),\n",
    "                              length = 10,\n",
    "                              variable_length = True,\n",
    "                              tol = 0.99,\n",
    "                              max_steps = max_steps,\n",
    "                              acceptance_criterion = Metropolis(T_start=0))\n",
    "\n",
    "_, _, fidelity_list1, steps_list1 = compiler.compile_list(U_target_list)\n",
    "\n",
    "random.seed(42)\n",
    "compiler = MonteCarloCompiler(basis_gates = IsingGates3(frac=1/64),\n",
    "                              length = 10,\n",
    "                              variable_length = True,\n",
    "                              tol = 0.99,\n",
    "                              max_steps = max_steps,\n",
    "                              acceptance_criterion = Metropolis(T_start=0.0001))\n",
    "\n",
    "_, _, fidelity_list2, steps_list2 = compiler.compile_list(U_target_list)\n",
    "\n",
    "random.seed(42)\n",
    "compiler = MonteCarloCompiler(basis_gates = IsingGates3(frac=1/64),\n",
    "                              length = 10,\n",
    "                              variable_length = True,\n",
    "                              tol = 0.99,\n",
    "                              max_steps = max_steps,\n",
    "                              acceptance_criterion = Metropolis(T_start=0.001))\n",
    "\n",
    "_, _, fidelity_list3, steps_list3 = compiler.compile_list(U_target_list)\n",
    "\n",
    "random.seed(42)\n",
    "compiler = MonteCarloCompiler(basis_gates = IsingGates3(frac=1/64),\n",
    "                              length = 10,\n",
    "                              variable_length = True,\n",
    "                              tol = 0.99,\n",
    "                              max_steps = max_steps,\n",
    "                              acceptance_criterion = Metropolis(T_start=0.01))\n",
    "\n",
    "_, _, fidelity_list4, steps_list4 = compiler.compile_list(U_target_list)\n",
    "\n",
    "\n",
    "data = (fidelity_list1, fidelity_list2, fidelity_list3, fidelity_list4)\n",
    "\n",
    "saver(data, data_path(\"mcc_twoQubit_smallRot\"))"
   ]
  },
  {
   "cell_type": "markdown",
   "metadata": {},
   "source": [
    "### HRC"
   ]
  },
  {
   "cell_type": "code",
   "execution_count": 11,
   "metadata": {},
   "outputs": [],
   "source": [
    "max_steps = 10000\n",
    "U_target_list = [np.array(qi.random_unitary(4, seed=i).data) for i in range(100)]\n",
    "\n",
    "random.seed(42)\n",
    "compiler = MonteCarloCompiler(basis_gates = HRC2(),\n",
    "                              length = 10,\n",
    "                              variable_length = True,\n",
    "                              tol = 0.99,\n",
    "                              max_steps = max_steps,\n",
    "                              acceptance_criterion = Metropolis(T_start=0))\n",
    "\n",
    "_, _, fidelity_list1, steps_list1 = compiler.compile_list(U_target_list)\n",
    "\n",
    "random.seed(42)\n",
    "compiler = MonteCarloCompiler(basis_gates = HRC2(),\n",
    "                              length = 10,\n",
    "                              variable_length = True,\n",
    "                              tol = 0.99,\n",
    "                              max_steps = max_steps,\n",
    "                              acceptance_criterion = Metropolis(T_start=0.01))\n",
    "\n",
    "_, _, fidelity_list2, steps_list2 = compiler.compile_list(U_target_list)\n",
    "\n",
    "random.seed(42)\n",
    "compiler = MonteCarloCompiler(basis_gates = HRC2(),\n",
    "                              length = 10,\n",
    "                              variable_length = True,\n",
    "                              tol = 0.99,\n",
    "                              max_steps = max_steps,\n",
    "                              acceptance_criterion = Metropolis(T_start=0.02))\n",
    "\n",
    "_, _, fidelity_list3, steps_list3 = compiler.compile_list(U_target_list)\n",
    "\n",
    "random.seed(42)\n",
    "compiler = MonteCarloCompiler(basis_gates = HRC2(),\n",
    "                              length = 10,\n",
    "                              variable_length = True,\n",
    "                              tol = 0.99,\n",
    "                              max_steps = max_steps,\n",
    "                              acceptance_criterion = Metropolis(T_start=0.05))\n",
    "\n",
    "_, _, fidelity_list4, steps_list4 = compiler.compile_list(U_target_list)\n",
    "\n",
    "\n",
    "data = (fidelity_list1, fidelity_list2, fidelity_list3, fidelity_list4)\n",
    "\n",
    "saver(data, data_path(\"mcc_twoQubit_HRC\"))"
   ]
  },
  {
   "cell_type": "markdown",
   "metadata": {},
   "source": [
    "## Annealing"
   ]
  },
  {
   "cell_type": "code",
   "execution_count": 14,
   "metadata": {},
   "outputs": [],
   "source": [
    "random.seed(42)\n",
    "U_target_list = [np.array(qi.random_unitary(4, seed=i).data) for i in range(100)]\n",
    "\n",
    "max_steps = 100000\n",
    "\n",
    "compiler = MonteCarloCompiler(basis_gates = HRC2(),\n",
    "                              length = 100,\n",
    "                              variable_length = True,\n",
    "                              tol = 0.99,\n",
    "                              max_steps = max_steps,\n",
    "                              acceptance_criterion = Metropolis(T_start=1, gamma = 0.99995))\n",
    "\n",
    "_, seq_list, fidelity_list, steps_list = compiler.compile_list(U_target_list)\n",
    "\n",
    "saver((fidelity_list, seq_list), data_path(\"mcc_twoQubit_HRC_annealing\"))"
   ]
  },
  {
   "cell_type": "markdown",
   "metadata": {},
   "source": [
    "## Test"
   ]
  },
  {
   "cell_type": "code",
   "execution_count": 2,
   "metadata": {},
   "outputs": [
    {
     "data": {
      "application/vnd.jupyter.widget-view+json": {
       "model_id": "0e74d1f9a0e644079de78ceab8bfe6f6",
       "version_major": 2,
       "version_minor": 0
      },
      "text/plain": [
       "HBox(children=(HTML(value=''), FloatProgress(value=0.0), HTML(value='')))"
      ]
     },
     "metadata": {},
     "output_type": "display_data"
    },
    {
     "name": "stdout",
     "output_type": "stream",
     "text": [
      "\n"
     ]
    }
   ],
   "source": [
    "random.seed(42)\n",
    "U_target_list = [np.array(qi.random_unitary(4, seed=i).data) for i in range(100)]\n",
    "\n",
    "max_steps = 10000\n",
    "\n",
    "compiler = MonteCarloCompiler(basis_gates = IsingGates3(frac=1/64),\n",
    "                              length = 500,\n",
    "                              variable_length = False,\n",
    "                              tol = 0.999,\n",
    "                              max_steps = max_steps,\n",
    "                              acceptance_criterion = Metropolis(T_start=0))\n",
    "\n",
    "_, seq_list, fidelity_list, steps_list = compiler.compile_list(U_target_list, verbose = True)"
   ]
  },
  {
   "cell_type": "code",
   "execution_count": 11,
   "metadata": {},
   "outputs": [
    {
     "name": "stdout",
     "output_type": "stream",
     "text": [
      "1571.7\n"
     ]
    }
   ],
   "source": [
    "mean = 0\n",
    "for seq in steps_list:\n",
    "    mean += len(seq)\n",
    "\n",
    "print(mean/len(steps_list))"
   ]
  },
  {
   "cell_type": "code",
   "execution_count": 3,
   "metadata": {},
   "outputs": [
    {
     "data": {
      "application/vnd.jupyter.widget-view+json": {
       "model_id": "d907e802664f49779c9360f4e1e3dad8",
       "version_major": 2,
       "version_minor": 0
      },
      "text/plain": [
       "HBox(children=(HTML(value=''), FloatProgress(value=0.0), HTML(value='')))"
      ]
     },
     "metadata": {},
     "output_type": "display_data"
    },
    {
     "name": "stdout",
     "output_type": "stream",
     "text": [
      "\n"
     ]
    }
   ],
   "source": [
    "random.seed(42)\n",
    "U_target_list = [np.array(qi.random_unitary(4, seed=i).data) for i in range(100)]\n",
    "\n",
    "max_steps = 10000\n",
    "\n",
    "compiler = MonteCarloCompiler(basis_gates = IsingGates3(frac=1/64),\n",
    "                              length = 1000,\n",
    "                              variable_length = False,\n",
    "                              tol = 0.999,\n",
    "                              max_steps = max_steps,\n",
    "                              acceptance_criterion = Metropolis(T_start=0))\n",
    "\n",
    "_, seq_list2, fidelity_list2, steps_list2 = compiler.compile_list(U_target_list, verbose = True)"
   ]
  },
  {
   "cell_type": "code",
   "execution_count": 2,
   "metadata": {},
   "outputs": [],
   "source": [
    "torch.manual_seed(42)\n",
    "random.seed(42)\n",
    "logger1 = Logger(sample_freq = 100)\n",
    "\n",
    "model1 = Model(agent = Agent(state_dim = 31,\n",
    "                             action_dim = 18,\n",
    "                             layers = [128, 128],\n",
    "                             scale = 0.35,\n",
    "                             eps_constants = (1, 0.05, 10000)),\n",
    "               environment = Environment(dim = 4,\n",
    "                                         reward_func = DenseReward(agf),\n",
    "                                         basis_gates = IsingGates3(frac = 1/64),\n",
    "                                         data_generator = HaarMeasure(),\n",
    "                                         max_num_actions = 500,\n",
    "                                         tol = 0.99,\n",
    "                                         fix_phase = True),\n",
    "               mem_capacity = 100000,\n",
    "               batch_size = 2048,\n",
    "               policy_update = 5,\n",
    "               her = False,\n",
    "               num_val = 1000,\n",
    "               lr = 0.0001)"
   ]
  },
  {
   "cell_type": "code",
   "execution_count": 3,
   "metadata": {},
   "outputs": [
    {
     "data": {
      "application/vnd.jupyter.widget-view+json": {
       "model_id": "3098b5aef5b143279c7ac29ba1f8135d",
       "version_major": 2,
       "version_minor": 0
      },
      "text/plain": [
       "HBox(children=(HTML(value=''), FloatProgress(value=0.0, max=25600.0), HTML(value='')))"
      ]
     },
     "metadata": {},
     "output_type": "display_data"
    },
    {
     "name": "stdout",
     "output_type": "stream",
     "text": [
      "\n"
     ]
    },
    {
     "ename": "KeyboardInterrupt",
     "evalue": "",
     "output_type": "error",
     "traceback": [
      "\u001b[1;31m---------------------------------------------------------------------------\u001b[0m",
      "\u001b[1;31mKeyboardInterrupt\u001b[0m                         Traceback (most recent call last)",
      "\u001b[1;32m<ipython-input-3-1ff041dacd3a>\u001b[0m in \u001b[0;36m<module>\u001b[1;34m\u001b[0m\n\u001b[1;32m----> 1\u001b[1;33m \u001b[0mmodel1\u001b[0m\u001b[1;33m.\u001b[0m\u001b[0mtrain\u001b[0m\u001b[1;33m(\u001b[0m\u001b[1;36m25600\u001b[0m\u001b[1;33m,\u001b[0m \u001b[0mlogger\u001b[0m\u001b[1;33m=\u001b[0m\u001b[0mlogger1\u001b[0m\u001b[1;33m)\u001b[0m\u001b[1;33m\u001b[0m\u001b[1;33m\u001b[0m\u001b[0m\n\u001b[0m",
      "\u001b[1;32m~\\Documents\\QuantumCompilingRL2\\src\\models.py\u001b[0m in \u001b[0;36mtrain\u001b[1;34m(self, num_episodes, logger)\u001b[0m\n\u001b[0;32m    136\u001b[0m \u001b[1;33m\u001b[0m\u001b[0m\n\u001b[0;32m    137\u001b[0m                     \u001b[1;32mif\u001b[0m \u001b[0mcounter\u001b[0m \u001b[1;33m%\u001b[0m \u001b[0mself\u001b[0m\u001b[1;33m.\u001b[0m\u001b[0mpolicy_update\u001b[0m \u001b[1;33m==\u001b[0m \u001b[1;36m0\u001b[0m\u001b[1;33m:\u001b[0m\u001b[1;33m\u001b[0m\u001b[1;33m\u001b[0m\u001b[0m\n\u001b[1;32m--> 138\u001b[1;33m                         \u001b[0mloss\u001b[0m \u001b[1;33m=\u001b[0m \u001b[0mself\u001b[0m\u001b[1;33m.\u001b[0m\u001b[0moptimize_agent\u001b[0m\u001b[1;33m(\u001b[0m\u001b[1;33m)\u001b[0m\u001b[1;33m\u001b[0m\u001b[1;33m\u001b[0m\u001b[0m\n\u001b[0m\u001b[0;32m    139\u001b[0m                     \u001b[0mcounter\u001b[0m \u001b[1;33m+=\u001b[0m \u001b[1;36m1\u001b[0m\u001b[1;33m\u001b[0m\u001b[1;33m\u001b[0m\u001b[0m\n\u001b[0;32m    140\u001b[0m \u001b[1;33m\u001b[0m\u001b[0m\n",
      "\u001b[1;32m~\\Documents\\QuantumCompilingRL2\\src\\models.py\u001b[0m in \u001b[0;36moptimize_agent\u001b[1;34m(self)\u001b[0m\n\u001b[0;32m     81\u001b[0m         \u001b[0mbatch\u001b[0m \u001b[1;33m=\u001b[0m \u001b[0mTransition\u001b[0m\u001b[1;33m(\u001b[0m\u001b[1;33m*\u001b[0m\u001b[0mzip\u001b[0m\u001b[1;33m(\u001b[0m\u001b[1;33m*\u001b[0m\u001b[0mtransitions\u001b[0m\u001b[1;33m)\u001b[0m\u001b[1;33m)\u001b[0m\u001b[1;33m\u001b[0m\u001b[1;33m\u001b[0m\u001b[0m\n\u001b[0;32m     82\u001b[0m \u001b[1;33m\u001b[0m\u001b[0m\n\u001b[1;32m---> 83\u001b[1;33m         \u001b[0mstate_batch\u001b[0m \u001b[1;33m=\u001b[0m \u001b[0mtorch\u001b[0m\u001b[1;33m.\u001b[0m\u001b[0mcat\u001b[0m\u001b[1;33m(\u001b[0m\u001b[0mbatch\u001b[0m\u001b[1;33m.\u001b[0m\u001b[0mstate\u001b[0m\u001b[1;33m)\u001b[0m\u001b[1;33m\u001b[0m\u001b[1;33m\u001b[0m\u001b[0m\n\u001b[0m\u001b[0;32m     84\u001b[0m         \u001b[0maction_batch\u001b[0m \u001b[1;33m=\u001b[0m \u001b[0mtorch\u001b[0m\u001b[1;33m.\u001b[0m\u001b[0mcat\u001b[0m\u001b[1;33m(\u001b[0m\u001b[0mbatch\u001b[0m\u001b[1;33m.\u001b[0m\u001b[0maction\u001b[0m\u001b[1;33m)\u001b[0m\u001b[1;33m.\u001b[0m\u001b[0mto\u001b[0m\u001b[1;33m(\u001b[0m\u001b[0mdevice\u001b[0m\u001b[1;33m=\u001b[0m\u001b[0mconfig\u001b[0m\u001b[1;33m.\u001b[0m\u001b[0mdevice\u001b[0m\u001b[1;33m)\u001b[0m\u001b[1;33m\u001b[0m\u001b[1;33m\u001b[0m\u001b[0m\n\u001b[0;32m     85\u001b[0m         \u001b[0mreward_batch\u001b[0m \u001b[1;33m=\u001b[0m \u001b[0mtorch\u001b[0m\u001b[1;33m.\u001b[0m\u001b[0mcat\u001b[0m\u001b[1;33m(\u001b[0m\u001b[0mbatch\u001b[0m\u001b[1;33m.\u001b[0m\u001b[0mreward\u001b[0m\u001b[1;33m)\u001b[0m\u001b[1;33m.\u001b[0m\u001b[0mto\u001b[0m\u001b[1;33m(\u001b[0m\u001b[0mdevice\u001b[0m\u001b[1;33m=\u001b[0m\u001b[0mconfig\u001b[0m\u001b[1;33m.\u001b[0m\u001b[0mdevice\u001b[0m\u001b[1;33m)\u001b[0m\u001b[1;33m\u001b[0m\u001b[1;33m\u001b[0m\u001b[0m\n",
      "\u001b[1;31mKeyboardInterrupt\u001b[0m: "
     ]
    }
   ],
   "source": [
    "model1.train(25600, logger=logger1)"
   ]
  }
 ],
 "metadata": {
  "kernelspec": {
   "display_name": "qiskit",
   "language": "python",
   "name": "qiskit"
  },
  "language_info": {
   "codemirror_mode": {
    "name": "ipython",
    "version": 3
   },
   "file_extension": ".py",
   "mimetype": "text/x-python",
   "name": "python",
   "nbconvert_exporter": "python",
   "pygments_lexer": "ipython3",
   "version": "3.8.5"
  }
 },
 "nbformat": 4,
 "nbformat_minor": 4
}
