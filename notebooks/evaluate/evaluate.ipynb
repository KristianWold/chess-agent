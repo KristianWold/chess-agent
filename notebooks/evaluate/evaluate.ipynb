{
 "cells": [
  {
   "cell_type": "markdown",
   "metadata": {},
   "source": [
    "# Curriculum Learning"
   ]
  },
  {
   "cell_type": "code",
   "execution_count": 1,
   "metadata": {},
   "outputs": [
    {
     "name": "stdout",
     "output_type": "stream",
     "text": [
      "PyTorch version: 2.7.1+cu128\n",
      "CUDA toolkit version PyTorch was built with: 12.8\n",
      "cuDNN version: 90701\n",
      "cuda available: True\n"
     ]
    }
   ],
   "source": [
    "import sys\n",
    "sys.path.insert(0, '../../src/')\n",
    "\n",
    "import numpy as np\n",
    "import matplotlib.pyplot as plt\n",
    "import pickle\n",
    "import config\n",
    "import torch\n",
    "from tqdm.notebook import tqdm\n",
    "from copy import copy, deepcopy\n",
    "import cmath\n",
    "import chess\n",
    "from utils import saver, loader, load_checkpoint\n",
    "from evals import EvaluateAgents\n",
    "\n",
    "from agents import BoardLogic, Agent\n",
    "from environments import *\n",
    "from models import *\n",
    "%matplotlib inline\n",
    "\n",
    "np.set_printoptions(precision = 3)\n",
    "\n",
    "print(\"PyTorch version:\", torch.__version__)  \n",
    "print(\"CUDA toolkit version PyTorch was built with:\", torch.version.cuda)  \n",
    "print(\"cuDNN version:\", torch.backends.cudnn.version()) \n",
    "print(\"cuda available:\", torch.cuda.is_available())\n",
    "\n",
    "torch.set_float32_matmul_precision('high')"
   ]
  },
  {
   "cell_type": "code",
   "execution_count": 17,
   "metadata": {},
   "outputs": [
    {
     "name": "stdout",
     "output_type": "stream",
     "text": [
      "2987212\n"
     ]
    }
   ],
   "source": [
    "torch.manual_seed(42)\n",
    "random.seed(42)\n",
    "np.random.seed(42)\n",
    "agent = Agent(board_logic = BoardLogic(), \n",
    "              in_ch=20, \n",
    "              ch=128, \n",
    "              n_blocks=10,\n",
    "              sample_policy=eps_greedy_policy,)\n",
    "print(sum(p.numel() for p in agent.online_net1.parameters() if p.requires_grad))\n",
    "environment = Environment(max_num_moves=200,)\n",
    "\n",
    "opt_list = [None, None]\n",
    "\n",
    "model = Model(agent = agent,\n",
    "               environment = environment,\n",
    "               mem_capacity = 1000000,\n",
    "               init_mem=False,\n",
    "               batch_size = 512,\n",
    "               num_warmup = 100000,\n",
    "               policy_update = 2,\n",
    "               tau = 0.01,\n",
    "               temp_scaler = TemperatureScaler(temp_start=0.6, \n",
    "                                               temp_end=0.3, \n",
    "                                               temp_min=1e-5, \n",
    "                                               episode_decay=5000, \n",
    "                                               transition_decay=0.95),\n",
    "               opt_list=opt_list,\n",
    "               scaler=torch.amp.GradScaler(\"cuda\")\n",
    "             )\n",
    "\n",
    "optimizer_grouped_parameters1 = group_decay_parameters(\n",
    "    agent.online_net1,\n",
    "    weight_decay=1e-5,\n",
    "    no_decay=[\"bias\", \"GroupNorm.weight\"],\n",
    "    )\n",
    "\n",
    "optimizer_grouped_parameters2 = group_decay_parameters(\n",
    "    agent.online_net2,\n",
    "    weight_decay=1e-5,\n",
    "    no_decay=[\"bias\", \"GroupNorm.weight\"],\n",
    "    )\n",
    "\n",
    "opt_list[0] = torch.optim.AdamW(optimizer_grouped_parameters1, lr=1e-4)\n",
    "opt_list[1] = torch.optim.AdamW(optimizer_grouped_parameters2, lr=1e-4)\n"
   ]
  },
  {
   "cell_type": "code",
   "execution_count": 18,
   "metadata": {},
   "outputs": [],
   "source": [
    "def evaluate_agents(model, filename1, filename2, num_games=1000, temp=0.1, transition_decay=0.95):\n",
    "\n",
    "    if not filename1 is None:\n",
    "        model = load_checkpoint(\"../models/\" + filename1, None, model)\n",
    "    agent1 = deepcopy(model.agent)\n",
    "    \n",
    "    if not filename2 is None:\n",
    "        model = load_checkpoint(\"../models/\" + filename2, None, model)\n",
    "    agent2 = deepcopy(model.agent)\n",
    "    \n",
    "    eval_agents = EvaluateAgents(agent1 = agent1, \n",
    "                                 agent2 = agent2, \n",
    "                                 environment = Environment(max_num_moves=100,), \n",
    "                                 num_games=num_games,\n",
    "                                 temp = temp, \n",
    "                                 transition_decay=transition_decay)\n",
    "    \n",
    "    results = eval_agents.evaluate()\n",
    "    return results"
   ]
  },
  {
   "cell_type": "markdown",
   "metadata": {},
   "source": [
    "## Eval"
   ]
  },
  {
   "cell_type": "code",
   "execution_count": 19,
   "metadata": {},
   "outputs": [
    {
     "data": {
      "application/vnd.jupyter.widget-view+json": {
       "model_id": "adc54facfaea44feaeeb292a64e6377e",
       "version_major": 2,
       "version_minor": 0
      },
      "text/plain": [
       "  0%|          | 0/1000 [00:00<?, ?it/s]"
      ]
     },
     "metadata": {},
     "output_type": "display_data"
    },
    {
     "name": "stdout",
     "output_type": "stream",
     "text": [
      "{1: 610, -1: 88, 0: 302}\n"
     ]
    }
   ],
   "source": [
    "results = evaluate_agents(model, \n",
    "                          \"model_eps_5000_episodes_core.pth\", \n",
    "                          \"model_eps_0_episodes_core.pth\",\n",
    "                          num_games=1000, \n",
    "                          temp=0.2,\n",
    "                          transition_decay=0.95)\n",
    "print(results)"
   ]
  },
  {
   "cell_type": "code",
   "execution_count": 20,
   "metadata": {},
   "outputs": [
    {
     "data": {
      "application/vnd.jupyter.widget-view+json": {
       "model_id": "8f0d4e005a884e6ba5347992262ec900",
       "version_major": 2,
       "version_minor": 0
      },
      "text/plain": [
       "  0%|          | 0/1000 [00:00<?, ?it/s]"
      ]
     },
     "metadata": {},
     "output_type": "display_data"
    },
    {
     "name": "stdout",
     "output_type": "stream",
     "text": [
      "{1: 879, -1: 54, 0: 67}\n"
     ]
    }
   ],
   "source": [
    "results = evaluate_agents(model, \n",
    "                          \"model_eps_10000_episodes_core.pth\", \n",
    "                          \"model_eps_5000_episodes_core.pth\",  \n",
    "                          num_games=1000, \n",
    "                          temp=0.2,\n",
    "                          transition_decay=0.95)\n",
    "print(results)"
   ]
  },
  {
   "cell_type": "code",
   "execution_count": 21,
   "metadata": {},
   "outputs": [
    {
     "data": {
      "application/vnd.jupyter.widget-view+json": {
       "model_id": "59f5d40b6ad4459bb700f65e3cde5c94",
       "version_major": 2,
       "version_minor": 0
      },
      "text/plain": [
       "  0%|          | 0/1000 [00:00<?, ?it/s]"
      ]
     },
     "metadata": {},
     "output_type": "display_data"
    },
    {
     "name": "stdout",
     "output_type": "stream",
     "text": [
      "{1: 531, -1: 107, 0: 362}\n"
     ]
    }
   ],
   "source": [
    "results = evaluate_agents(model, \n",
    "                          \"model_eps_15000_episodes_core.pth\", \n",
    "                          \"model_eps_10000_episodes_core.pth\",  \n",
    "                          num_games=1000, \n",
    "                          temp=0.2,\n",
    "                          transition_decay=0.95)\n",
    "print(results)"
   ]
  },
  {
   "cell_type": "code",
   "execution_count": 22,
   "metadata": {},
   "outputs": [
    {
     "data": {
      "application/vnd.jupyter.widget-view+json": {
       "model_id": "d016dad56da7423699437a6f4d62d7c5",
       "version_major": 2,
       "version_minor": 0
      },
      "text/plain": [
       "  0%|          | 0/1000 [00:00<?, ?it/s]"
      ]
     },
     "metadata": {},
     "output_type": "display_data"
    },
    {
     "name": "stdout",
     "output_type": "stream",
     "text": [
      "{1: 446, -1: 156, 0: 398}\n"
     ]
    }
   ],
   "source": [
    "results = evaluate_agents(model, \n",
    "                          \"model_eps_20000_episodes_core.pth\", \n",
    "                          \"model_eps_15000_episodes_core.pth\",  \n",
    "                          num_games=1000, \n",
    "                          temp=0.2,\n",
    "                          transition_decay=0.95)\n",
    "print(results)"
   ]
  },
  {
   "cell_type": "code",
   "execution_count": 25,
   "metadata": {},
   "outputs": [
    {
     "data": {
      "application/vnd.jupyter.widget-view+json": {
       "model_id": "eff6802a96124a089b9ee52441d19855",
       "version_major": 2,
       "version_minor": 0
      },
      "text/plain": [
       "  0%|          | 0/1000 [00:00<?, ?it/s]"
      ]
     },
     "metadata": {},
     "output_type": "display_data"
    },
    {
     "name": "stdout",
     "output_type": "stream",
     "text": [
      "{1: 440, -1: 173, 0: 387}\n"
     ]
    }
   ],
   "source": [
    "results = evaluate_agents(model, \n",
    "                          \"model_eps_25000_episodes_core.pth\", \n",
    "                          \"model_eps_20000_episodes_core.pth\",  \n",
    "                          num_games=1000, \n",
    "                          temp=0.2,\n",
    "                          transition_decay=0.95)\n",
    "print(results)"
   ]
  },
  {
   "cell_type": "code",
   "execution_count": 26,
   "metadata": {},
   "outputs": [
    {
     "data": {
      "application/vnd.jupyter.widget-view+json": {
       "model_id": "a8bf27e1458942eaa300a9354b9bf09b",
       "version_major": 2,
       "version_minor": 0
      },
      "text/plain": [
       "  0%|          | 0/1000 [00:00<?, ?it/s]"
      ]
     },
     "metadata": {},
     "output_type": "display_data"
    },
    {
     "name": "stdout",
     "output_type": "stream",
     "text": [
      "{1: 405, -1: 246, 0: 349}\n"
     ]
    }
   ],
   "source": [
    "results = evaluate_agents(model, \n",
    "                          \"model_eps_30000_episodes_core.pth\", \n",
    "                          \"model_eps_25000_episodes_core.pth\",  \n",
    "                          num_games=1000, \n",
    "                          temp=0.2,\n",
    "                          transition_decay=0.95)\n",
    "print(results)"
   ]
  },
  {
   "cell_type": "code",
   "execution_count": 27,
   "metadata": {},
   "outputs": [
    {
     "data": {
      "application/vnd.jupyter.widget-view+json": {
       "model_id": "acd5f0dd5a844ac79a5a413909c605cd",
       "version_major": 2,
       "version_minor": 0
      },
      "text/plain": [
       "  0%|          | 0/1000 [00:00<?, ?it/s]"
      ]
     },
     "metadata": {},
     "output_type": "display_data"
    },
    {
     "name": "stdout",
     "output_type": "stream",
     "text": [
      "{1: 409, -1: 263, 0: 328}\n"
     ]
    }
   ],
   "source": [
    "results = evaluate_agents(model, \n",
    "                          \"model_eps_35000_episodes_core.pth\", \n",
    "                          \"model_eps_30000_episodes_core.pth\",  \n",
    "                          num_games=1000, \n",
    "                          temp=0.2,\n",
    "                          transition_decay=0.95)\n",
    "print(results)"
   ]
  },
  {
   "cell_type": "code",
   "execution_count": 29,
   "metadata": {},
   "outputs": [
    {
     "data": {
      "application/vnd.jupyter.widget-view+json": {
       "model_id": "b5c9df0ec2524df4b0eda14412df5c40",
       "version_major": 2,
       "version_minor": 0
      },
      "text/plain": [
       "  0%|          | 0/1000 [00:00<?, ?it/s]"
      ]
     },
     "metadata": {},
     "output_type": "display_data"
    },
    {
     "name": "stdout",
     "output_type": "stream",
     "text": [
      "{1: 383, -1: 315, 0: 302}\n"
     ]
    }
   ],
   "source": [
    "results = evaluate_agents(model, \n",
    "                          \"model_eps_40000_episodes_core.pth\", \n",
    "                          \"model_eps_35000_episodes_core.pth\",  \n",
    "                          num_games=1000, \n",
    "                          temp=0.2,\n",
    "                          transition_decay=0.95)\n",
    "print(results)"
   ]
  },
  {
   "cell_type": "code",
   "execution_count": 30,
   "metadata": {},
   "outputs": [
    {
     "data": {
      "application/vnd.jupyter.widget-view+json": {
       "model_id": "1a709eed724548898e8ab828885d2be9",
       "version_major": 2,
       "version_minor": 0
      },
      "text/plain": [
       "  0%|          | 0/1000 [00:00<?, ?it/s]"
      ]
     },
     "metadata": {},
     "output_type": "display_data"
    },
    {
     "name": "stdout",
     "output_type": "stream",
     "text": [
      "{1: 399, -1: 275, 0: 326}\n"
     ]
    }
   ],
   "source": [
    "results = evaluate_agents(model, \n",
    "                          \"model_eps_45000_episodes_core.pth\", \n",
    "                          \"model_eps_40000_episodes_core.pth\",  \n",
    "                          num_games=1000, \n",
    "                          temp=0.2,\n",
    "                          transition_decay=0.95)\n",
    "print(results)"
   ]
  },
  {
   "cell_type": "code",
   "execution_count": 31,
   "metadata": {},
   "outputs": [
    {
     "data": {
      "application/vnd.jupyter.widget-view+json": {
       "model_id": "30a7df04b3b44ff685a0c7c5289271fe",
       "version_major": 2,
       "version_minor": 0
      },
      "text/plain": [
       "  0%|          | 0/1000 [00:00<?, ?it/s]"
      ]
     },
     "metadata": {},
     "output_type": "display_data"
    },
    {
     "name": "stdout",
     "output_type": "stream",
     "text": [
      "{1: 420, -1: 283, 0: 297}\n"
     ]
    }
   ],
   "source": [
    "results = evaluate_agents(model, \n",
    "                          \"model_eps_50000_episodes_core.pth\", \n",
    "                          \"model_eps_45000_episodes_core.pth\",  \n",
    "                          num_games=1000, \n",
    "                          temp=0.2,\n",
    "                          transition_decay=0.95)\n",
    "print(results)"
   ]
  }
 ],
 "metadata": {
  "kernelspec": {
   "display_name": "env_pytorch",
   "language": "python",
   "name": "python3"
  },
  "language_info": {
   "codemirror_mode": {
    "name": "ipython",
    "version": 3
   },
   "file_extension": ".py",
   "mimetype": "text/x-python",
   "name": "python",
   "nbconvert_exporter": "python",
   "pygments_lexer": "ipython3",
   "version": "3.12.2"
  }
 },
 "nbformat": 4,
 "nbformat_minor": 4
}
